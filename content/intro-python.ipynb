{
  "cells": [
    {
      "cell_type": "markdown",
      "metadata": {
        "id": "J3lc5fQwDI98"
      },
      "source": [
        "# Primeros Pasos con Python y GitHub Codespaces\n",
        "\n",
        "Python es un lenguaje de alto nivel interpretado ampliamente utilizado en las aplicaciones web, el desarrollo de software, la ciencia de datos y el machine learning. Es muy sencillo de comprender aún si no se tiene experiencia por su alta similitud con el idioma inglés.\n"
      ]
    },
    {
      "cell_type": "markdown",
      "metadata": {
        "id": "GvI9Edra6zl3"
      },
      "source": [
        "# Variables y tipos de datos\n",
        "\n",
        "Las variables son los elementos que permiten guardar información, reservan una ubicación de memoria asignada por el intérprete.\n"
      ]
    },
    {
      "cell_type": "markdown",
      "metadata": {
        "id": "BWEkjI_u73Fq"
      },
      "source": [
        "## Declaración de variables\n",
        "\n",
        "1.   Escoge el nombre de la variable: `altura`\n",
        "2.   Escribe el símbolo de igualdad `=`\n",
        "3.   Escribe el dato a guardar `2`\n",
        "\n",
        "```\n",
        "altura = 5\n",
        "```\n",
        "\n",
        "Puedes realizar declaraciones múltiples separando los nombres de variables y valores por una coma `,`.\n",
        "\n",
        "```\n",
        "base_mayor, base_menor = 3,2\n",
        "```\n",
        "No es necesario escribir el tipo de variable con la que se desea trabajar."
      ]
    },
    {
      "cell_type": "markdown",
      "metadata": {
        "id": "3MjpS7tiKFop"
      },
      "source": [
        "**Ejemplo.** Almacena en variables las dimensiones de un trapecio. Calcule su área.\n"
      ]
    },
    {
      "cell_type": "code",
      "execution_count": 5,
      "metadata": {
        "colab": {
          "base_uri": "https://localhost:8080/"
        },
        "id": "L--QiWN7DCtd",
        "outputId": "a2a05bc8-2465-4134-ab54-a2c552c60852"
      },
      "outputs": [
        {
          "data": {
            "text/plain": [
              "int"
            ]
          },
          "execution_count": 5,
          "metadata": {},
          "output_type": "execute_result"
        }
      ],
      "source": [
        "#base_mayor, base_menor, altura = 5,7,4\n",
        "#area = base_mayor * base_menor * altura / 2\n",
        "#print(str(area) + \" u^2\")\n",
        "edad=10\n",
        "type(edad)\n"
      ]
    },
    {
      "cell_type": "markdown",
      "metadata": {
        "id": "rcceBU407uXW"
      },
      "source": [
        "## Tipos de datos\n",
        "\n",
        "Los tipos de datos básicos.\n",
        "\n",
        "| Variable | Descripción | Ejemplo | \n",
        "| --- | --- | --- | \n",
        "| **Entero** |  número sin decimal | ``dias_en_semana = 7`` |\n",
        "| **Flontante** | número con decimal | ``precio_gasolina = 23.98`` |\n",
        "| **Complejo** | parte real y parte imaginaria | ``raiz = -3.5 + 1j`` |\n",
        "| **Booleano** | uno de dos valores |``True`` o ``False`` |\n",
        "| **Cadenas** | secuencia de caracteres | ``mi_nombre = 'Student Ambassadors'``|\n",
        "\n",
        "\n",
        "Para conocer el tipo de una variable podemos utilizar la función `type()`."
      ]
    },
    {
      "cell_type": "markdown",
      "metadata": {
        "id": "yXAWy25wafOj"
      },
      "source": [
        "**Ejercicio.** Juguemos un poco con las variables. Declara una variable para almacenar tu nombre e imprime un saludo personalizado."
      ]
    },
    {
      "cell_type": "code",
      "execution_count": 6,
      "metadata": {
        "colab": {
          "base_uri": "https://localhost:8080/"
        },
        "id": "kPEy4dqRaofY",
        "outputId": "3412f869-7fba-4599-d263-b4fdfe72cfff"
      },
      "outputs": [
        {
          "name": "stdout",
          "output_type": "stream",
          "text": [
            "Hola Jonathan, bienvenido\n"
          ]
        }
      ],
      "source": [
        "nombre = input(\"Ingresa tu nombre:\")\n",
        "print(\"Hola \" + nombre + \", bienvenido\")"
      ]
    },
    {
      "cell_type": "markdown",
      "metadata": {
        "id": "RSytyZn68ky1"
      },
      "source": [
        "# Operaciones básicas\n",
        "\n",
        "Existen diversos tipos de operadores en Python, los más comúnes son:\n",
        "\n"
      ]
    },
    {
      "cell_type": "markdown",
      "metadata": {
        "id": "bs2k2oJbAhb0"
      },
      "source": [
        "## Operadores aritméticos\n",
        "Generalmente son aplicados a los tipos numéricos. Los operadores de suma y multiplicación también se emplean para concatenar y repetir elementos en una cadena.\n",
        "\n",
        "| Nombre | Operador | Ejemplo | Resultado | \n",
        "| --- | --- | --- | --- | \n",
        "| **Suma** | + |  2 + 3 | 5 |\n",
        "| **Resta** | -| 5 - 8 |3 |\n",
        "| **Multiplicación** | * | \"Si\" * 3 | \"SiSiSi\" |\n",
        "| **Potencia** | **  |2 ** 5| 32 |\n",
        "| **División** | / | 1 / 4| 0.25 |\n",
        "| **Cociente entero** | // | 4 // 3 | 1 |\n",
        "| **Módulo** | % | 9 % 2 | 1|"
      ]
    },
    {
      "cell_type": "markdown",
      "metadata": {
        "id": "Y5Q-v-lfbzb1"
      },
      "source": [
        "**Ejercicio.** A Josué le gustan mucho los chocolates y quiere saber cuántos puede comprar con el dinero que tiene en sus bolsillos. Desarrolla un pequeño código que cuente su dinero si tiene monedas de 0.50, 1, 2, 5, 10 pesos e ingresando el precio de los chocolates."
      ]
    },
    {
      "cell_type": "code",
      "execution_count": 7,
      "metadata": {
        "colab": {
          "base_uri": "https://localhost:8080/"
        },
        "id": "_A2MHIPvcvxB",
        "outputId": "47545a3a-3a24-4935-fba9-2e73194bf4e1"
      },
      "outputs": [
        {
          "name": "stdout",
          "output_type": "stream",
          "text": [
            "Total: $57.5\n",
            "Puedes comprar: 28\n"
          ]
        }
      ],
      "source": [
        "peso05 = float(input(\"Ingrese la cantidad de monedas de $0.5: \"))\n",
        "peso1 = float(input(\"Ingrese la cantidad de monedas de $1: \"))\n",
        "peso2 = float(input(\"Ingrese la cantidad de monedas de $2: \"))\n",
        "peso5 = float(input(\"Ingrese la cantidad de monedas de $5: \"))\n",
        "peso10 = float(input(\"Ingrese la cantidad de monedas de $10: \"))\n",
        "\n",
        "total = 0.5 * peso05\n",
        "total = total + peso1\n",
        "total = total + 2 * peso2\n",
        "total = total + 5 * peso5\n",
        "total = total + 10 * peso10\n",
        "\n",
        "print(\"Total: $\" + str(total))\n",
        "precio = float(input(\"Ingrese el precio de 1 chocolate: \"))\n",
        "\n",
        "chocolates = int(total // precio)\n",
        "print(\"Puedes comprar: \" + str(chocolates))\n"
      ]
    },
    {
      "cell_type": "markdown",
      "metadata": {
        "id": "oH5mx02cDgWP"
      },
      "source": [
        "## Operadores relacionales\n",
        "\n",
        "Comparan datos numéricos o cadenas. Las cadenas se comparan caracter por caracter y alfabéticamente.\n",
        "\n",
        "| Operador | Descripción | Ejemplo | Resultado |\n",
        "| --- | --- | --- | --- |\n",
        "| == | Igual | \"rojo\" == \"Rojo\" | False |\n",
        "| != | Diferente | \"rojo\" == \"Rojo\" | True |\n",
        "| < | Menor que | \"arboleda\" < \"cedro\" | True |\n",
        "| > | Mayor que | \"pino\" > \"cedro\" | True |\n",
        "| <= | Menor o igual que | \"abeto\" <= \"cedro\" | True |\n",
        "| >= | Mayor o igual que | \"pino\" >= \"caoba\" | True |\n"
      ]
    },
    {
      "cell_type": "markdown",
      "metadata": {
        "id": "j1zwChc_fGHW"
      },
      "source": [
        "**Ejercicio.** En la siguiente celda práctica la sintaxis libremente de forma que los resultados sean:\n",
        "\n",
        "\n",
        "```\n",
        "False\n",
        "False\n",
        "True\n",
        "True\n",
        "False\n",
        "True\n",
        "```\n",
        "\n"
      ]
    },
    {
      "cell_type": "code",
      "execution_count": 8,
      "metadata": {
        "colab": {
          "base_uri": "https://localhost:8080/"
        },
        "id": "RzRn1hGhLsOO",
        "outputId": "e2f31704-25ca-4365-df20-6d6fed589e86"
      },
      "outputs": [
        {
          "name": "stdout",
          "output_type": "stream",
          "text": [
            "False\n",
            "False\n",
            "True\n",
            "True\n",
            "False\n",
            "True\n"
          ]
        }
      ],
      "source": [
        "print(10 < 1)\n",
        "print(5 != 5)\n",
        "print(2 == 2)\n",
        "print(80 > 9)\n",
        "print(0.5 >= 3.7)\n",
        "print(0.5 <= 3.7)"
      ]
    },
    {
      "cell_type": "markdown",
      "metadata": {
        "id": "kFa-d19TE7tC"
      },
      "source": [
        "## Operadores lógicos\n",
        "Se emplean con las variables booleandas y dan como resultado True o False.\n",
        "\n",
        "| Operador | Ejemplo | Resultado |\n",
        "| --- | --- | --- |\n",
        "| and  | True and False | False |\n",
        "| or | True or false  | True |\n",
        "| not | not True | False |"
      ]
    },
    {
      "cell_type": "code",
      "execution_count": null,
      "metadata": {
        "colab": {
          "base_uri": "https://localhost:8080/"
        },
        "id": "UQb3PKq3LYZl",
        "outputId": "98da326c-6f45-4c0c-eb40-db40d26ffad1"
      },
      "outputs": [],
      "source": [
        "8 < 9 and 10 < 1"
      ]
    },
    {
      "cell_type": "code",
      "execution_count": null,
      "metadata": {
        "colab": {
          "base_uri": "https://localhost:8080/"
        },
        "id": "e-PYmiXCMnsj",
        "outputId": "c47125d9-e333-4efe-992c-60627b51a3c9"
      },
      "outputs": [],
      "source": [
        "8 < 9 or 10 < 1"
      ]
    },
    {
      "cell_type": "code",
      "execution_count": null,
      "metadata": {
        "colab": {
          "base_uri": "https://localhost:8080/"
        },
        "id": "VcQwrLEeMpsq",
        "outputId": "bc81019a-4c84-4b92-c120-87ac6943792e"
      },
      "outputs": [],
      "source": [
        "not 10 < 1"
      ]
    },
    {
      "cell_type": "markdown",
      "metadata": {
        "id": "h7qtDy3tFXWx"
      },
      "source": [
        "## Operadores de asignación\n",
        "\n",
        "El operador para asignar valores a una variable es ``=``.\n",
        "Los operadores para sobreescribir el valor de una variable son los siguientes:\n",
        "\n",
        "|Operador | Ejemplo | Resultado |\n",
        "| --- | --- | ---|\n",
        "| = | ancho = 3 | Declaración de la variable ``ancho``|\n",
        "| += | cont += 1 | cont = cont + 1|\n",
        "| -= | cont -= 1 | cont = cont - 1|\n",
        "| *= | X *= 2 | X = X * 2 |\n",
        "| **= | X **= 2 | X = X ** 2 |\n",
        "| /= | X /= 2 | X = X / 2 |\n",
        "| //= | X //= 2 | X = X // 2 |\n",
        "| %= | X %= 2 | X = X % 2 |"
      ]
    },
    {
      "cell_type": "markdown",
      "metadata": {
        "id": "xpJt4sLCMvFR"
      },
      "source": [
        "**Ejercicio.** Supongamos que queremos hacer un contador de saltos, de forma que cada que ejecutemos la celda, incremente en 1 el contador. ¿Cómo lo resolverías?"
      ]
    },
    {
      "cell_type": "code",
      "execution_count": 12,
      "metadata": {
        "colab": {
          "base_uri": "https://localhost:8080/"
        },
        "id": "63ahuJS6M-ka",
        "outputId": "3b53b42d-62d8-4e51-c476-f973859a201b"
      },
      "outputs": [
        {
          "name": "stdout",
          "output_type": "stream",
          "text": [
            "7\n"
          ]
        }
      ],
      "source": [
        "cont = 5\n",
        "cont += 2\n",
        "print(cont)"
      ]
    },
    {
      "cell_type": "markdown",
      "metadata": {
        "id": "_YzrSqN1-14i"
      },
      "source": [
        "# Funciones básicas\n",
        "\n",
        "`input(cadena)`: Imprime un mensaje y espera respuesta por teclado.\n",
        "\n",
        "`print(cadena)`: Imprime la cadena.\n",
        "\n",
        "`len(cadena)`: Permite saber la longitud de una cadena.\n",
        "\n"
      ]
    },
    {
      "cell_type": "markdown",
      "metadata": {
        "id": "vYI12QsEf6l1"
      },
      "source": [
        "**Ejercicio.** ¿Qué tan largo es tu nombre?"
      ]
    },
    {
      "cell_type": "code",
      "execution_count": 13,
      "metadata": {
        "colab": {
          "base_uri": "https://localhost:8080/"
        },
        "id": "RwhfCLehgCLJ",
        "outputId": "ebe81f06-264c-4b0f-883d-3a95d3250f2e"
      },
      "outputs": [
        {
          "name": "stdout",
          "output_type": "stream",
          "text": [
            "2 caracteres\n"
          ]
        },
        {
          "data": {
            "text/plain": [
              "2"
            ]
          },
          "execution_count": 13,
          "metadata": {},
          "output_type": "execute_result"
        }
      ],
      "source": [
        "nombre = input(\"Ingresa tu nombre:\")\n",
        "print(str(len(nombre)) + \" caracteres\")\n",
        "\n",
        "#Tambien es válido\n",
        "len(nombre)"
      ]
    },
    {
      "cell_type": "markdown",
      "metadata": {
        "id": "kvo_Qe5l8pb0"
      },
      "source": [
        "# Estructuras de control\n",
        "\n",
        "Las estructuras de control son el conjunto de reglas que permiten controlar el flujo de ejecución de las instrucciones de un algoritmo o de un programa."
      ]
    },
    {
      "cell_type": "markdown",
      "metadata": {
        "id": "EBvB4Lby33ja"
      },
      "source": [
        "## Estructuras condicionales\n",
        "- `if`: Nos ayuda a decirle al programa que decisión tomar con base a un valor dado.\n",
        "\n",
        "``` python\n",
        "if Condicion:\n",
        "  Instruccion\n",
        "```\n",
        "\n",
        "- `else`: usamos esta función para indicarle al programa que hacer en cualquier otro caso en el que nuestra condición de la función **if** sea falsa.\n",
        "\n",
        "``` python\n",
        "if Condicion_1 :\n",
        "  Instruccion_1\n",
        "else:\n",
        "  Instruccion_2\n",
        "```\n",
        "\n",
        "- `elif`: Utilizamos esta función cuando requerimos validar varia condiciones.\n",
        "\n",
        "``` python\n",
        "if Condicion_1:\n",
        "  Instruccion_1\n",
        "elif Condicion_2:\n",
        "  Instruccion_2\n",
        "elif Condicion_3:\n",
        "  Instruccion_3\n",
        "... # Podemos añadir tantas elif como sean necesarias\n",
        "# Es posible añadir un else a la condicional.\n",
        "else:\n",
        "  Instruccion\n",
        "```"
      ]
    },
    {
      "cell_type": "markdown",
      "metadata": {
        "id": "4Op-Yo-l8DTF"
      },
      "source": [
        "La principal diferencia entre **elif** y **else** es que la función **elif** son casos particulares de la condición a evaluar y la función **else** es un caso general."
      ]
    },
    {
      "cell_type": "markdown",
      "metadata": {
        "id": "LSP8S4AhJMNe"
      },
      "source": [
        "**Ejercicio**. Un programa que lea un número y diga si es par o impar."
      ]
    },
    {
      "cell_type": "code",
      "execution_count": 14,
      "metadata": {
        "colab": {
          "base_uri": "https://localhost:8080/"
        },
        "id": "QcZdqp9JJYpz",
        "outputId": "71e883a9-87bb-4c77-fa33-a540866bb34d"
      },
      "outputs": [
        {
          "name": "stdout",
          "output_type": "stream",
          "text": [
            "Es impar\n"
          ]
        }
      ],
      "source": [
        "n = int(input(\"Introduce un numero: \"))\n",
        "if n % 2 == 0:\n",
        "  print(\"Es par\")\n",
        "else:\n",
        "  print(\"Es impar\")"
      ]
    },
    {
      "cell_type": "markdown",
      "metadata": {
        "id": "4x6MJWBW4LX0"
      },
      "source": [
        "## Estructuras de iteración\n",
        "- `for`: Nos sirve para repetir instrucciones, una cantidad finita de veces.\n",
        "\n",
        "``` python\n",
        "for Variable in range(#):\n",
        "  Instruccion\n",
        "```\n",
        "- `while`: Si tenemos una condición con valor verdadero entonces se ejecuta las instrucciones, si la condición sigue siendo verdadera se vuelven a ejecutar las instrucciones, siguiendo este procedimiento hasta que la condición sea falsa o, en su defecto, nunca se termina de ejecutar.\n",
        "\n",
        "``` python\n",
        "while Condicion:\n",
        "  Instruccion\n",
        "```\n"
      ]
    },
    {
      "cell_type": "markdown",
      "metadata": {
        "id": "LJV08aFZ-SWB"
      },
      "source": [
        "- **Break**: Un ciclo for y while puede terminar de forma inmediatamente si utilizamos esta instrucción.\n",
        "\n",
        "- **Continue**: Supongamos que bajo cierta condición no queremos que el bucle siga trabajando en la iteracion actual y avance a la siguiente, para esto usamos dicha instruccion."
      ]
    },
    {
      "cell_type": "markdown",
      "metadata": {
        "id": "1TNGxBUmJd__"
      },
      "source": [
        "**Ejercicio**. Un programa que imprima los números del 1 al 10.\n"
      ]
    },
    {
      "cell_type": "code",
      "execution_count": 15,
      "metadata": {
        "colab": {
          "base_uri": "https://localhost:8080/"
        },
        "id": "1DTxwWCgJm8T",
        "outputId": "15e72d87-2895-4f3d-f12f-78ebbdcb6041"
      },
      "outputs": [
        {
          "name": "stdout",
          "output_type": "stream",
          "text": [
            "1\n",
            "2\n",
            "3\n",
            "4\n",
            "5\n",
            "6\n",
            "7\n",
            "8\n",
            "9\n",
            "10\n"
          ]
        }
      ],
      "source": [
        "# Usando un for.\n",
        "for i in range(1, 11):\n",
        "  print(i)"
      ]
    },
    {
      "cell_type": "code",
      "execution_count": 16,
      "metadata": {
        "colab": {
          "base_uri": "https://localhost:8080/"
        },
        "id": "spvGcPYaJqLT",
        "outputId": "69bbdc3f-2902-4eb6-840a-5d8dca2a55f6"
      },
      "outputs": [
        {
          "name": "stdout",
          "output_type": "stream",
          "text": [
            "1\n",
            "2\n",
            "3\n",
            "4\n",
            "5\n",
            "6\n",
            "7\n",
            "8\n",
            "9\n",
            "10\n"
          ]
        }
      ],
      "source": [
        "# Usando un while.\n",
        "i = 1\n",
        "while i < 11:\n",
        "  print(i)\n",
        "  i+=1"
      ]
    },
    {
      "cell_type": "markdown",
      "metadata": {
        "id": "mWL-LE4eHHUy"
      },
      "source": [
        "# Estructuras de datos\n",
        "\n",
        "\n",
        "*   **Tupla**. Secuencias de datos de distintos tipos u otras tuplas. *El contenido no puede cambiar*, es decir, no puedes añadir, reemplazar, reasignar o eliminar ningún elemento. Las tuplas utilizan paréntesis `()` y se separan los elementos con comas `,`. Por ejemplo:\n",
        "\n",
        "```\n",
        "mi_tupla = (0,1,2,3)\n",
        "```\n",
        "\n",
        "\n",
        "*   **Lista**. Secuencias que agrupan datos de distintos tipos u otras listas. Las listas son mutables, es decir, se puede añadir, eliminar, mover elementos.Las listas utilizan corechetes `[]` y se separan los elementos con comas `,`. Por ejemplo:\n",
        "\n",
        "```\n",
        "mi_lista = [2,4,6,8]\n",
        "```\n",
        "El orden en que se crean los elementos es inmutable y cada término tiene un identificador único comenzando por el cero.\n",
        "\n",
        "\n",
        "Para acceder a un elemento de una tupla/lista se utilizan los corchetes `[]` y se indica la posición, por ejemplo:\n",
        "\n",
        "\n",
        "```\n",
        "# Accede al primer elemento de la lista\n",
        "mi_lista[0]\n",
        "```\n",
        "\n",
        "\n"
      ]
    },
    {
      "cell_type": "code",
      "execution_count": 19,
      "metadata": {
        "colab": {
          "base_uri": "https://localhost:8080/"
        },
        "id": "O6ZRB_LGiJeu",
        "outputId": "427388be-4faf-40b8-85c9-86345f57b2bf"
      },
      "outputs": [
        {
          "data": {
            "text/plain": [
              "4"
            ]
          },
          "execution_count": 19,
          "metadata": {},
          "output_type": "execute_result"
        }
      ],
      "source": [
        "mi_lista = [2,4,6,8]\n",
        "#Acceder al primer elemento:\n",
        "mi_lista[1]"
      ]
    },
    {
      "cell_type": "markdown",
      "metadata": {
        "id": "jFAwCoiAJu6H"
      },
      "source": [
        "**Ejercicio**. La suma de los elementos de una lista."
      ]
    },
    {
      "cell_type": "code",
      "execution_count": null,
      "metadata": {
        "colab": {
          "base_uri": "https://localhost:8080/"
        },
        "id": "DLyewAYaJuLT",
        "outputId": "276a5833-0d4d-42e8-f208-3f4d570d20d4"
      },
      "outputs": [],
      "source": [
        "suma = 0\n",
        "lista = [1, 2, 3, 4, 5]\n",
        "for i in range(0, len(lista)):\n",
        "  suma += lista[i]\n",
        "print(suma)"
      ]
    },
    {
      "cell_type": "code",
      "execution_count": null,
      "metadata": {
        "colab": {
          "base_uri": "https://localhost:8080/"
        },
        "id": "bCMMN7HPJ1FO",
        "outputId": "d19891d0-31a1-441d-c711-91346f39a0c4"
      },
      "outputs": [],
      "source": [
        "# Tambien es valido.\n",
        "suma = 0\n",
        "lista = [1, 2, 3, 4, 5]\n",
        "for x in lista:\n",
        "  suma += x\n",
        "print(suma)"
      ]
    }
  ],
  "metadata": {
    "colab": {
      "provenance": []
    },
    "kernelspec": {
      "display_name": "Python 3",
      "name": "python3"
    },
    "language_info": {
      "codemirror_mode": {
        "name": "ipython",
        "version": 3
      },
      "file_extension": ".py",
      "mimetype": "text/x-python",
      "name": "python",
      "nbconvert_exporter": "python",
      "pygments_lexer": "ipython3",
      "version": "3.10.4"
    }
  },
  "nbformat": 4,
  "nbformat_minor": 0
}
